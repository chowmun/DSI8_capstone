{
 "cells": [
  {
   "cell_type": "code",
   "execution_count": 1,
   "metadata": {},
   "outputs": [],
   "source": [
    "import pandas as pd\n",
    "import numpy as np\n",
    "import random\n",
    "import requests\n",
    "import csv\n",
    "import time\n",
    "import string\n",
    "import regex as re\n",
    "from joblib import Memory\n",
    "from tqdm import tqdm\n",
    "from nltk.corpus import stopwords\n",
    "from bs4 import BeautifulSoup as bs\n",
    "from nltk import word_tokenize          \n",
    "from nltk.stem import WordNetLemmatizer, PorterStemmer\n",
    "from sklearn.metrics.pairwise import cosine_similarity\n",
    "from sklearn.pipeline import Pipeline\n",
    "from sklearn.feature_extraction.text import TfidfVectorizer\n",
    "from sklearn.preprocessing import StandardScaler, normalize\n",
    "from sklearn.model_selection import GridSearchCV\n",
    "from nltk.tokenize import TreebankWordTokenizer"
   ]
  },
  {
   "cell_type": "code",
   "execution_count": 4,
   "metadata": {},
   "outputs": [],
   "source": [
    "pd.options.display.max_columns =999 #dispaly the whole grid\n",
    "# function to read csv file\n",
    "\n",
    "def read (name):\n",
    "    return pd.read_csv('./datasets/'+ name + '.csv')"
   ]
  },
  {
   "cell_type": "code",
   "execution_count": 5,
   "metadata": {},
   "outputs": [],
   "source": [
    "rating = read('ratings')\n",
    "book_all = read('books')\n",
    "review_count = pd.DataFrame(rating.groupby('book_id').size(), columns=['count'])\n",
    "reviews_per_user = pd.DataFrame(rating.groupby('user_id').size(), columns=['count'])\n"
   ]
  },
  {
   "cell_type": "code",
   "execution_count": 6,
   "metadata": {},
   "outputs": [],
   "source": [
    "threshold = 500\n",
    "popular_list = list(set(review_count.query('count >= @threshold').index))\n",
    "popular_book = rating[rating.book_id.isin(popular_list)]\n",
    "threshold = 117\n",
    "active_list = list(set(reviews_per_user.query('count >= @threshold').index))\n",
    "book_df = popular_book[popular_book.user_id.isin(active_list)]"
   ]
  },
  {
   "cell_type": "code",
   "execution_count": 7,
   "metadata": {},
   "outputs": [
    {
     "data": {
      "text/plain": [
       "(2249118, 3)"
      ]
     },
     "execution_count": 7,
     "metadata": {},
     "output_type": "execute_result"
    }
   ],
   "source": [
    "book_df.shape"
   ]
  },
  {
   "cell_type": "code",
   "execution_count": 8,
   "metadata": {},
   "outputs": [
    {
     "name": "stdout",
     "output_type": "stream",
     "text": [
      "<class 'pandas.core.frame.DataFrame'>\n",
      "Int64Index: 2249118 entries, 0 to 5976478\n",
      "Data columns (total 3 columns):\n",
      "user_id    int64\n",
      "book_id    int64\n",
      "rating     int64\n",
      "dtypes: int64(3)\n",
      "memory usage: 68.6 MB\n"
     ]
    }
   ],
   "source": [
    "book_df.info()"
   ]
  },
  {
   "cell_type": "code",
   "execution_count": 9,
   "metadata": {},
   "outputs": [
    {
     "data": {
      "text/html": [
       "<div>\n",
       "<style scoped>\n",
       "    .dataframe tbody tr th:only-of-type {\n",
       "        vertical-align: middle;\n",
       "    }\n",
       "\n",
       "    .dataframe tbody tr th {\n",
       "        vertical-align: top;\n",
       "    }\n",
       "\n",
       "    .dataframe thead th {\n",
       "        text-align: right;\n",
       "    }\n",
       "</style>\n",
       "<table border=\"1\" class=\"dataframe\">\n",
       "  <thead>\n",
       "    <tr style=\"text-align: right;\">\n",
       "      <th></th>\n",
       "      <th>book_id</th>\n",
       "    </tr>\n",
       "  </thead>\n",
       "  <tbody>\n",
       "    <tr>\n",
       "      <th>0</th>\n",
       "      <td>258</td>\n",
       "    </tr>\n",
       "    <tr>\n",
       "      <th>1</th>\n",
       "      <td>70</td>\n",
       "    </tr>\n",
       "    <tr>\n",
       "      <th>2</th>\n",
       "      <td>264</td>\n",
       "    </tr>\n",
       "    <tr>\n",
       "      <th>3</th>\n",
       "      <td>388</td>\n",
       "    </tr>\n",
       "    <tr>\n",
       "      <th>4</th>\n",
       "      <td>18</td>\n",
       "    </tr>\n",
       "  </tbody>\n",
       "</table>\n",
       "</div>"
      ],
      "text/plain": [
       "   book_id\n",
       "0      258\n",
       "1       70\n",
       "2      264\n",
       "3      388\n",
       "4       18"
      ]
     },
     "execution_count": 9,
     "metadata": {},
     "output_type": "execute_result"
    }
   ],
   "source": [
    "# form a dataframe for the selected book\n",
    "selected_books = pd.DataFrame(book_df['book_id'].unique(), columns=['book_id'])\n",
    "selected_books.head()"
   ]
  },
  {
   "cell_type": "code",
   "execution_count": 10,
   "metadata": {},
   "outputs": [],
   "source": [
    "# save the book_df for future usage\n",
    "selected_books.to_csv('./datasets/selected_book.csv')"
   ]
  },
  {
   "cell_type": "code",
   "execution_count": 11,
   "metadata": {},
   "outputs": [],
   "source": [
    "# combine with 'book.csv' with only books that are filtered earlier\n",
    "gdread = selected_books.merge(book_all, how='left', on='book_id')"
   ]
  },
  {
   "cell_type": "code",
   "execution_count": 12,
   "metadata": {},
   "outputs": [
    {
     "data": {
      "text/plain": [
       "(2526, 23)"
      ]
     },
     "execution_count": 12,
     "metadata": {},
     "output_type": "execute_result"
    }
   ],
   "source": [
    "gdread.shape"
   ]
  },
  {
   "cell_type": "code",
   "execution_count": 13,
   "metadata": {},
   "outputs": [
    {
     "data": {
      "text/html": [
       "<div>\n",
       "<style scoped>\n",
       "    .dataframe tbody tr th:only-of-type {\n",
       "        vertical-align: middle;\n",
       "    }\n",
       "\n",
       "    .dataframe tbody tr th {\n",
       "        vertical-align: top;\n",
       "    }\n",
       "\n",
       "    .dataframe thead th {\n",
       "        text-align: right;\n",
       "    }\n",
       "</style>\n",
       "<table border=\"1\" class=\"dataframe\">\n",
       "  <thead>\n",
       "    <tr style=\"text-align: right;\">\n",
       "      <th></th>\n",
       "      <th>book_id</th>\n",
       "      <th>goodreads_book_id</th>\n",
       "      <th>best_book_id</th>\n",
       "      <th>work_id</th>\n",
       "      <th>books_count</th>\n",
       "      <th>isbn</th>\n",
       "      <th>isbn13</th>\n",
       "      <th>authors</th>\n",
       "      <th>original_publication_year</th>\n",
       "      <th>original_title</th>\n",
       "      <th>title</th>\n",
       "      <th>language_code</th>\n",
       "      <th>average_rating</th>\n",
       "      <th>ratings_count</th>\n",
       "      <th>work_ratings_count</th>\n",
       "      <th>work_text_reviews_count</th>\n",
       "      <th>ratings_1</th>\n",
       "      <th>ratings_2</th>\n",
       "      <th>ratings_3</th>\n",
       "      <th>ratings_4</th>\n",
       "      <th>ratings_5</th>\n",
       "      <th>image_url</th>\n",
       "      <th>small_image_url</th>\n",
       "    </tr>\n",
       "  </thead>\n",
       "  <tbody>\n",
       "    <tr>\n",
       "      <th>0</th>\n",
       "      <td>258</td>\n",
       "      <td>1232</td>\n",
       "      <td>1232</td>\n",
       "      <td>3209783</td>\n",
       "      <td>279</td>\n",
       "      <td>143034901</td>\n",
       "      <td>9.780143e+12</td>\n",
       "      <td>Carlos Ruiz Zafón, Lucia Graves</td>\n",
       "      <td>2001.0</td>\n",
       "      <td>La sombra del viento</td>\n",
       "      <td>The Shadow of the Wind (The Cemetery of Forgot...</td>\n",
       "      <td>eng</td>\n",
       "      <td>4.24</td>\n",
       "      <td>263685</td>\n",
       "      <td>317554</td>\n",
       "      <td>24652</td>\n",
       "      <td>4789</td>\n",
       "      <td>11769</td>\n",
       "      <td>42214</td>\n",
       "      <td>101612</td>\n",
       "      <td>157170</td>\n",
       "      <td>https://images.gr-assets.com/books/1344545047m...</td>\n",
       "      <td>https://images.gr-assets.com/books/1344545047s...</td>\n",
       "    </tr>\n",
       "    <tr>\n",
       "      <th>1</th>\n",
       "      <td>70</td>\n",
       "      <td>375802</td>\n",
       "      <td>375802</td>\n",
       "      <td>2422333</td>\n",
       "      <td>224</td>\n",
       "      <td>812550706</td>\n",
       "      <td>9.780813e+12</td>\n",
       "      <td>Orson Scott Card</td>\n",
       "      <td>1985.0</td>\n",
       "      <td>Ender's Game</td>\n",
       "      <td>Ender's Game (Ender's Saga, #1)</td>\n",
       "      <td>eng</td>\n",
       "      <td>4.30</td>\n",
       "      <td>813439</td>\n",
       "      <td>873417</td>\n",
       "      <td>38054</td>\n",
       "      <td>15330</td>\n",
       "      <td>27612</td>\n",
       "      <td>103439</td>\n",
       "      <td>264207</td>\n",
       "      <td>462829</td>\n",
       "      <td>https://images.gr-assets.com/books/1408303130m...</td>\n",
       "      <td>https://images.gr-assets.com/books/1408303130s...</td>\n",
       "    </tr>\n",
       "    <tr>\n",
       "      <th>2</th>\n",
       "      <td>264</td>\n",
       "      <td>3876</td>\n",
       "      <td>3876</td>\n",
       "      <td>589497</td>\n",
       "      <td>343</td>\n",
       "      <td>743297334</td>\n",
       "      <td>9.780743e+12</td>\n",
       "      <td>Ernest Hemingway</td>\n",
       "      <td>1926.0</td>\n",
       "      <td>The Sun Also Rises</td>\n",
       "      <td>The Sun Also Rises</td>\n",
       "      <td>en-US</td>\n",
       "      <td>3.83</td>\n",
       "      <td>284988</td>\n",
       "      <td>303117</td>\n",
       "      <td>9826</td>\n",
       "      <td>9602</td>\n",
       "      <td>23682</td>\n",
       "      <td>70004</td>\n",
       "      <td>105785</td>\n",
       "      <td>94044</td>\n",
       "      <td>https://images.gr-assets.com/books/1331828228m...</td>\n",
       "      <td>https://images.gr-assets.com/books/1331828228s...</td>\n",
       "    </tr>\n",
       "  </tbody>\n",
       "</table>\n",
       "</div>"
      ],
      "text/plain": [
       "   book_id  goodreads_book_id  best_book_id  work_id  books_count       isbn  \\\n",
       "0      258               1232          1232  3209783          279  143034901   \n",
       "1       70             375802        375802  2422333          224  812550706   \n",
       "2      264               3876          3876   589497          343  743297334   \n",
       "\n",
       "         isbn13                          authors  original_publication_year  \\\n",
       "0  9.780143e+12  Carlos Ruiz Zafón, Lucia Graves                     2001.0   \n",
       "1  9.780813e+12                 Orson Scott Card                     1985.0   \n",
       "2  9.780743e+12                 Ernest Hemingway                     1926.0   \n",
       "\n",
       "         original_title                                              title  \\\n",
       "0  La sombra del viento  The Shadow of the Wind (The Cemetery of Forgot...   \n",
       "1          Ender's Game                    Ender's Game (Ender's Saga, #1)   \n",
       "2    The Sun Also Rises                                 The Sun Also Rises   \n",
       "\n",
       "  language_code  average_rating  ratings_count  work_ratings_count  \\\n",
       "0           eng            4.24         263685              317554   \n",
       "1           eng            4.30         813439              873417   \n",
       "2         en-US            3.83         284988              303117   \n",
       "\n",
       "   work_text_reviews_count  ratings_1  ratings_2  ratings_3  ratings_4  \\\n",
       "0                    24652       4789      11769      42214     101612   \n",
       "1                    38054      15330      27612     103439     264207   \n",
       "2                     9826       9602      23682      70004     105785   \n",
       "\n",
       "   ratings_5                                          image_url  \\\n",
       "0     157170  https://images.gr-assets.com/books/1344545047m...   \n",
       "1     462829  https://images.gr-assets.com/books/1408303130m...   \n",
       "2      94044  https://images.gr-assets.com/books/1331828228m...   \n",
       "\n",
       "                                     small_image_url  \n",
       "0  https://images.gr-assets.com/books/1344545047s...  \n",
       "1  https://images.gr-assets.com/books/1408303130s...  \n",
       "2  https://images.gr-assets.com/books/1331828228s...  "
      ]
     },
     "execution_count": 13,
     "metadata": {},
     "output_type": "execute_result"
    }
   ],
   "source": [
    "gdread.head(3)"
   ]
  },
  {
   "cell_type": "code",
   "execution_count": 14,
   "metadata": {},
   "outputs": [
    {
     "data": {
      "text/plain": [
       "array([ True])"
      ]
     },
     "execution_count": 14,
     "metadata": {},
     "output_type": "execute_result"
    }
   ],
   "source": [
    "# double confirm the outcome \n",
    "(gdread.book_id == selected_books.book_id).unique()"
   ]
  },
  {
   "cell_type": "code",
   "execution_count": 15,
   "metadata": {},
   "outputs": [],
   "source": [
    "# extract the goodread_id \n",
    "gdread_id = gdread.goodreads_book_id"
   ]
  },
  {
   "cell_type": "code",
   "execution_count": 16,
   "metadata": {},
   "outputs": [],
   "source": [
    "# split into a few parts for easier monitor\n",
    "gdread_id = np.array_split(gdread_id, 5)"
   ]
  },
  {
   "cell_type": "markdown",
   "metadata": {},
   "source": [
    "## Web scrapping\n",
    "#### Scrap the books information from goodreads website using the gdread_id"
   ]
  },
  {
   "cell_type": "code",
   "execution_count": 1,
   "metadata": {},
   "outputs": [],
   "source": [
    "# declare global index for counting \n",
    "# scrape on goodreads.com using goodreads id\n",
    "# and save the summary and genres in a csv fileindex = 0"
   ]
  },
  {
   "cell_type": "code",
   "execution_count": null,
   "metadata": {},
   "outputs": [],
   "source": [
    "def scrape_and_run(gr_id):\n",
    "    \n",
    "    page = requests.get(\"https://www.goodreads.com/book/show/\" + str(gr_id), \n",
    "                        headers = {'User-Agent' : 'data' })\n",
    "    \n",
    "    if page.status_code == 200:\n",
    "        soup = bs(page.content, 'html.parser')\n",
    "        summary = soup.find('span', attrs={'style': 'display:none'})\n",
    "        \n",
    "        # some of the information might be empty, so we need to set a condition to prevent error when 'get_text()'\n",
    "        if summary is not None:\n",
    "            summary = soup.find('span', attrs={'style': 'display:none'}).get_text()\n",
    "        \n",
    "        genre = soup.find_all('a', class_='actionLinkLite bookPageGenreLink')\n",
    "        if genre is not None:\n",
    "            # extract test in every class\n",
    "            genre = [i.get_text() for i in soup.find_all('a', class_='actionLinkLite bookPageGenreLink')]\n",
    "    \n",
    "    else: # handle page error\n",
    "        print(page.status_code)\n",
    "        print('error found in book with gr_id', gr_id)\n",
    "        summary = None\n",
    "        genre = None\n",
    "    \n",
    "    sleep_duration = random.randint(2,10)\n",
    "    time.sleep(sleep_duration)\n",
    "    global index\n",
    "    index +=1\n",
    "    if index%100 == 0:\n",
    "        print(index, 'books processed')\n",
    "    \n",
    "    return summary, genre"
   ]
  },
  {
   "cell_type": "code",
   "execution_count": null,
   "metadata": {},
   "outputs": [],
   "source": [
    "def get_summary(gdread_id):\n",
    "    book_summary ={}\n",
    "    genre_summary={}\n",
    "    for book in gdread_id:\n",
    "        summary, genre = scrape_and_run(book) # call the scrape_and_run function\n",
    "        book_summary[book]= summary # assign the return value from function to book_summary \n",
    "        genre_summary[book] = genre\n",
    "    return book_summary, genre_summary # the results are in a form of dictionary "
   ]
  },
  {
   "cell_type": "code",
   "execution_count": null,
   "metadata": {},
   "outputs": [],
   "source": [
    "def convert_df(part):\n",
    "    df = pd.DataFrame(part).T\n",
    "    df.reset_index(inplace=True) # reset the indext so we can assign a column name for goodreads_book_id\n",
    "    df.columns=['goodreads_book_id','summary','genre']\n",
    "    return df"
   ]
  },
  {
   "cell_type": "code",
   "execution_count": null,
   "metadata": {
    "scrolled": true
   },
   "outputs": [],
   "source": [
    "a # start to scrap goodread website\n",
    "part_1 = get_summary(gdread_id[0])"
   ]
  },
  {
   "cell_type": "code",
   "execution_count": null,
   "metadata": {},
   "outputs": [],
   "source": [
    "# save the result as csv file\n",
    "convert_df(part_1).to_csv('part_1.csv')"
   ]
  },
  {
   "cell_type": "code",
   "execution_count": null,
   "metadata": {},
   "outputs": [],
   "source": [
    "index = 0\n",
    "part_2 = get_summary(gdread_id[1])"
   ]
  },
  {
   "cell_type": "code",
   "execution_count": null,
   "metadata": {},
   "outputs": [],
   "source": [
    "convert_df(part_2).to_csv('part_2.csv')"
   ]
  },
  {
   "cell_type": "code",
   "execution_count": null,
   "metadata": {},
   "outputs": [],
   "source": [
    "index = 0\n",
    "part_3 = get_summary(gdread_id[2])"
   ]
  },
  {
   "cell_type": "code",
   "execution_count": null,
   "metadata": {},
   "outputs": [],
   "source": [
    "convert_df(part_3).to_csv('part_3.csv')"
   ]
  },
  {
   "cell_type": "code",
   "execution_count": null,
   "metadata": {},
   "outputs": [],
   "source": [
    "index = 0\n",
    "part_4 = get_summary(gdread_id[3])"
   ]
  },
  {
   "cell_type": "code",
   "execution_count": null,
   "metadata": {},
   "outputs": [],
   "source": [
    "convert_df(part_4).to_csv('part_4.csv')"
   ]
  },
  {
   "cell_type": "code",
   "execution_count": null,
   "metadata": {},
   "outputs": [],
   "source": [
    "index = 0\n",
    "part_5 = get_summary(gdread_id[4])"
   ]
  },
  {
   "cell_type": "code",
   "execution_count": null,
   "metadata": {},
   "outputs": [],
   "source": [
    "convert_df(part_5).to_csv('part_5.csv')"
   ]
  }
 ],
 "metadata": {
  "kernelspec": {
   "display_name": "Python 3",
   "language": "python",
   "name": "python3"
  },
  "language_info": {
   "codemirror_mode": {
    "name": "ipython",
    "version": 3
   },
   "file_extension": ".py",
   "mimetype": "text/x-python",
   "name": "python",
   "nbconvert_exporter": "python",
   "pygments_lexer": "ipython3",
   "version": "3.6.8"
  }
 },
 "nbformat": 4,
 "nbformat_minor": 2
}
